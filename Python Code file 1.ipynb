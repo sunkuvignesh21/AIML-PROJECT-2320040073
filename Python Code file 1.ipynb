{
  "nbformat": 4,
  "nbformat_minor": 0,
  "metadata": {
    "colab": {
      "provenance": []
    },
    "kernelspec": {
      "name": "python3",
      "display_name": "Python 3"
    },
    "language_info": {
      "name": "python"
    }
  },
  "cells": [
    {
      "cell_type": "markdown",
      "source": [
        "UNINFORMED (BFS, DFS, ITFS)"
      ],
      "metadata": {
        "id": "SeHxIVEZ02-p"
      }
    },
    {
      "cell_type": "code",
      "source": [
        "from collections import defaultdict\n",
        "\n",
        "class Graph:\n",
        "    def __init__(self):\n",
        "        self.adjacency_list = defaultdict(list)\n",
        "    def add_edge(self, src, dest):\n",
        "        self.adjacency_list[src].append(dest)\n",
        "    def bfs(self, start_node):\n",
        "        visited = [False] * (max(self.adjacency_list.keys()) + 1)\n",
        "        queue = [start_node]\n",
        "        visited[start_node] = True\n",
        "        while queue:\n",
        "            current_node = queue.pop(0)\n",
        "            print(current_node, end=\" \")\n",
        "            for neighbor in self.adjacency_list[current_node]:\n",
        "                if not visited[neighbor]:\n",
        "                    queue.append(neighbor)\n",
        "                    visited[neighbor] = True\n",
        "\n",
        "if __name__ == '__main__':\n",
        "    graph = Graph()\n",
        "    graph.add_edge(0, 1)\n",
        "    graph.add_edge(0, 2)\n",
        "    graph.add_edge(1, 2)\n",
        "    graph.add_edge(2, 0)\n",
        "    graph.add_edge(2, 3)\n",
        "    graph.add_edge(3, 3)\n",
        "\n",
        "    print(\"Breadth-First Search starting from vertex 2:\")\n",
        "    graph.bfs(2)\n"
      ],
      "metadata": {
        "colab": {
          "base_uri": "https://localhost:8080/"
        },
        "id": "rzeWbbjD07PA",
        "outputId": "f31ebce9-11da-4c22-d176-13e6f8f4e38c"
      },
      "execution_count": 4,
      "outputs": [
        {
          "output_type": "stream",
          "name": "stdout",
          "text": [
            "Breadth-First Search starting from vertex 2:\n",
            "2 0 3 1 "
          ]
        }
      ]
    },
    {
      "cell_type": "code",
      "source": [
        "import heapq\n",
        "\n",
        "class Graph:\n",
        "    def __init__(self):\n",
        "        self.graph = {}\n",
        "\n",
        "    def add_edge(self, node, neighbor, cost):\n",
        "        self.graph.setdefault(node, []).append((neighbor, cost))\n",
        "\n",
        "    def best_first_search(self, start, goal, heuristic):\n",
        "        open_list = [(heuristic[start], start)]\n",
        "        visited = set()\n",
        "\n",
        "        while open_list:\n",
        "            current_cost, current_node = heapq.heappop(open_list)\n",
        "\n",
        "            if current_node == goal:\n",
        "                print(f\"Goal '{goal}' reached.\")\n",
        "                return\n",
        "\n",
        "            if current_node not in visited:\n",
        "                visited.add(current_node)\n",
        "                print(f\"Visiting node: {current_node}\")\n",
        "\n",
        "                for neighbor, cost in self.graph.get(current_node, []):\n",
        "                    if neighbor not in visited:\n",
        "                        heapq.heappush(open_list, (heuristic[neighbor], neighbor))\n",
        "\n",
        "        print(f\"Goal '{goal}' not reachable.\")\n",
        "\n",
        "if __name__ == \"__main__\":\n",
        "    g = Graph()\n",
        "    edges = [\n",
        "        ('A', 'B', 1),\n",
        "        ('A', 'C', 4),\n",
        "        ('B', 'D', 2),\n",
        "        ('C', 'D', 5),\n",
        "        ('D', 'E', 3),\n",
        "        ('B', 'E', 6)\n",
        "    ]\n",
        "\n",
        "    for edge in edges:\n",
        "        g.add_edge(*edge)\n",
        "\n",
        "    heuristic = {\n",
        "        'A': 7,\n",
        "        'B': 6,\n",
        "        'C': 3,\n",
        "        'D': 2,\n",
        "        'E': 0\n",
        "    }\n",
        "\n",
        "    g.best_first_search('A', 'E', heuristic)\n"
      ],
      "metadata": {
        "colab": {
          "base_uri": "https://localhost:8080/"
        },
        "id": "fagQ4HehFBET",
        "outputId": "d7c37fb6-d05b-4657-f277-2f0f30e73b66"
      },
      "execution_count": 6,
      "outputs": [
        {
          "output_type": "stream",
          "name": "stdout",
          "text": [
            "Visiting node: A\n",
            "Visiting node: C\n",
            "Visiting node: D\n",
            "Goal 'E' reached.\n"
          ]
        }
      ]
    },
    {
      "cell_type": "code",
      "source": [
        "import heapq\n",
        "\n",
        "class Graph:\n",
        "    def __init__(self):\n",
        "        self.adjacency_list = {}\n",
        "\n",
        "    def add_edge(self, source, target, weight):\n",
        "        self.adjacency_list.setdefault(source, []).append((target, weight))\n",
        "\n",
        "    def a_star_search(self, start_node, goal_node, heuristic_map):\n",
        "        open_set = [(0, start_node)]\n",
        "        g_score = {start_node: 0}\n",
        "        came_from = {start_node: None}\n",
        "        closed_set = set()\n",
        "\n",
        "        while open_set:\n",
        "            _, current_node = heapq.heappop(open_set)\n",
        "\n",
        "            if current_node == goal_node:\n",
        "                return self._trace_path(came_from, goal_node)\n",
        "\n",
        "            if current_node not in closed_set:\n",
        "                closed_set.add(current_node)\n",
        "\n",
        "                for neighbor, cost in self.adjacency_list.get(current_node, []):\n",
        "                    tentative_g_score = g_score[current_node] + cost\n",
        "                    if tentative_g_score < g_score.get(neighbor, float('inf')):\n",
        "                        g_score[neighbor] = tentative_g_score\n",
        "                        f_score = tentative_g_score + heuristic_map[neighbor]\n",
        "                        heapq.heappush(open_set, (f_score, neighbor))\n",
        "                        came_from[neighbor] = current_node\n",
        "\n",
        "        return None\n",
        "\n",
        "    def _trace_path(self, came_from, goal_node):\n",
        "        path = []\n",
        "        while goal_node is not None:\n",
        "            path.append(goal_node)\n",
        "            goal_node = came_from[goal_node]\n",
        "        return path[::-1]\n",
        "\n",
        "if __name__ == \"__main__\":\n",
        "    graph = Graph()\n",
        "    graph.add_edge('A', 'B', 1)\n",
        "    graph.add_edge('A', 'C', 4)\n",
        "    graph.add_edge('B', 'D', 2)\n",
        "    graph.add_edge('C', 'D', 5)\n",
        "    graph.add_edge('D', 'E', 3)\n",
        "    graph.add_edge('B', 'E', 6)\n",
        "\n",
        "    heuristics = {'A': 7, 'B': 6, 'C': 2, 'D': 1, 'E': 0}\n",
        "\n",
        "    path = graph.a_star_search('A', 'E', heuristics)\n",
        "\n",
        "    if path:\n",
        "        print(\"Path found:\", \" -> \".join(path))\n",
        "    else:\n",
        "        print(\"No path found\")\n"
      ],
      "metadata": {
        "colab": {
          "base_uri": "https://localhost:8080/"
        },
        "id": "MvIQp1weFr11",
        "outputId": "a2531e18-2f47-4d21-ec25-46e500e90641"
      },
      "execution_count": 8,
      "outputs": [
        {
          "output_type": "stream",
          "name": "stdout",
          "text": [
            "Path found: A -> B -> D -> E\n"
          ]
        }
      ]
    },
    {
      "cell_type": "markdown",
      "source": [
        "Min-Max"
      ],
      "metadata": {
        "id": "L3XOJAj6G5Rl"
      }
    },
    {
      "cell_type": "code",
      "source": [
        "numbers = [3, 1, 4, 1, 5, 9, 2, 6, 5, 3, 5]\n",
        "min_value = min(numbers)\n",
        "max_value = max(numbers)\n",
        "print(f\"Minimum value: {min_value}\")\n",
        "print(f\"Maximum value: {max_value}\")\n"
      ],
      "metadata": {
        "colab": {
          "base_uri": "https://localhost:8080/"
        },
        "id": "HTcL1uFxG8ER",
        "outputId": "3f82761c-9383-4e80-ffbb-f740ff03a702"
      },
      "execution_count": 9,
      "outputs": [
        {
          "output_type": "stream",
          "name": "stdout",
          "text": [
            "Minimum value: 1\n",
            "Maximum value: 9\n"
          ]
        }
      ]
    },
    {
      "cell_type": "markdown",
      "source": [
        "Alpha-Beta"
      ],
      "metadata": {
        "id": "ox2le4EXHBAH"
      }
    },
    {
      "cell_type": "code",
      "source": [
        "import math\n",
        "\n",
        "def alpha_beta_pruning(depth, node_idx, is_maximizing, values, alpha, beta, max_depth):\n",
        "    if depth == max_depth:\n",
        "        return values[node_idx]\n",
        "\n",
        "    if is_maximizing:\n",
        "        best_value = -math.inf\n",
        "        for i in range(2):\n",
        "            child_value = alpha_beta_pruning(depth + 1, node_idx * 2 + i, False, values, alpha, beta, max_depth)\n",
        "            best_value = max(best_value, child_value)\n",
        "            alpha = max(alpha, best_value)\n",
        "            if beta <= alpha:\n",
        "                break\n",
        "        return best_value\n",
        "    else:\n",
        "        best_value = math.inf\n",
        "        for i in range(2):\n",
        "            child_value = alpha_beta_pruning(depth + 1, node_idx * 2 + i, True, values, alpha, beta, max_depth)\n",
        "            best_value = min(best_value, child_value)\n",
        "            beta = min(beta, best_value)\n",
        "            if beta <= alpha:\n",
        "                break\n",
        "        return best_value\n",
        "\n",
        "if __name__ == \"__main__\":\n",
        "    values = [3, 5, 6, 9, 1, 2, 0, -1]\n",
        "    max_depth = int(math.log2(len(values)))\n",
        "    optimal_value = alpha_beta_pruning(0, 0, True, values, -math.inf, math.inf, max_depth)\n",
        "    print(f\"The optimal value is: {optimal_value}\")\n"
      ],
      "metadata": {
        "colab": {
          "base_uri": "https://localhost:8080/"
        },
        "id": "GznjwHUTHD3r",
        "outputId": "68f7ebdd-8881-4417-ad89-52a104b1c76f"
      },
      "execution_count": 10,
      "outputs": [
        {
          "output_type": "stream",
          "name": "stdout",
          "text": [
            "The optimal value is: 5\n"
          ]
        }
      ]
    },
    {
      "cell_type": "markdown",
      "source": [
        "Bidirectional Search Algorithm"
      ],
      "metadata": {
        "id": "0e88K3OZHRhw"
      }
    },
    {
      "cell_type": "code",
      "source": [
        "from collections import deque\n",
        "def bidirectional_search(graph, start_node, goal_node):\n",
        "    if start_node == goal_node:\n",
        "        return [start_node]\n",
        "    forward_search_queue = deque([start_node])\n",
        "    backward_search_queue = deque([goal_node])\n",
        "    forward_traversal_paths = {start_node: [start_node]}\n",
        "    backward_traversal_paths = {goal_node: [goal_node]}\n",
        "    forward_visited_nodes = set([start_node])\n",
        "    backward_visited_nodes = set([goal_node])\n",
        "    while forward_search_queue and backward_search_queue:\n",
        "        current_forward_node = forward_search_queue.popleft()\n",
        "        for neighbor in graph[current_forward_node]:\n",
        "            if neighbor in backward_visited_nodes:\n",
        "                return forward_traversal_paths[current_forward_node] + backward_traversal_paths[neighbor][::-1][1:]\n",
        "            if neighbor not in forward_visited_nodes:\n",
        "                forward_visited_nodes.add(neighbor)\n",
        "                forward_search_queue.append(neighbor)\n",
        "                forward_traversal_paths[neighbor] = forward_traversal_paths[current_forward_node] + [neighbor]\n",
        "        current_backward_node = backward_search_queue.popleft()\n",
        "        for neighbor in graph[current_backward_node]:\n",
        "            if neighbor in forward_visited_nodes:\n",
        "                return backward_traversal_paths[current_backward_node] + forward_traversal_paths[neighbor][::-1][1:]\n",
        "            if neighbor not in backward_visited_nodes:\n",
        "                backward_visited_nodes.add(neighbor)\n",
        "                backward_search_queue.append(neighbor)\n",
        "                backward_traversal_paths[neighbor] = backward_traversal_paths[current_backward_node] + [neighbor]\n",
        "\n",
        "    return None\n",
        "\n",
        "graph_structure = {\n",
        "    'A': ['B', 'C'],\n",
        "    'B': ['A', 'D', 'E'],\n",
        "    'C': ['A', 'F'],\n",
        "    'D': ['B'],\n",
        "    'E': ['B', 'F'],\n",
        "    'F': ['C', 'E']\n",
        "}\n",
        "start_node = 'A'\n",
        "goal_node = 'F'\n",
        "found_path = bidirectional_search(graph_structure, start_node, goal_node)\n",
        "\n",
        "print(f\"Path from {start_node} to {goal_node}: {found_path}\")\n"
      ],
      "metadata": {
        "colab": {
          "base_uri": "https://localhost:8080/"
        },
        "id": "-6A9pvQeHVWJ",
        "outputId": "30769bb3-aed7-4f38-8f74-064e385180a8"
      },
      "execution_count": 11,
      "outputs": [
        {
          "output_type": "stream",
          "name": "stdout",
          "text": [
            "Path from A to F: ['F', 'A']\n"
          ]
        }
      ]
    },
    {
      "cell_type": "markdown",
      "source": [
        "Iterative Deepening Depth-First Search (IDDFS) Algorithm"
      ],
      "metadata": {
        "id": "XtAx0IloHuMd"
      }
    },
    {
      "cell_type": "code",
      "source": [
        "def depth_limited_search(graph, current_node, target_node, depth_limit, visited_nodes):\n",
        "    if current_node == target_node:\n",
        "        return [current_node] if depth_limit >= 0 else None\n",
        "    if depth_limit == 0:\n",
        "        return None\n",
        "    visited_nodes.add(current_node)\n",
        "    for adjacent in graph[current_node]:\n",
        "        if adjacent not in visited_nodes:\n",
        "            result_path = depth_limited_search(graph, adjacent, target_node, depth_limit - 1, visited_nodes)\n",
        "            if result_path:\n",
        "                return [current_node] + result_path\n",
        "    return None\n",
        "def iterative_deepening_dfs(graph, start_node, goal_node):\n",
        "    depth = 0\n",
        "    while True:\n",
        "        visited_nodes = set()\n",
        "        path = depth_limited_search(graph, start_node, goal_node, depth, visited_nodes)\n",
        "        if path:\n",
        "            return path\n",
        "        depth += 1\n",
        "graph_structure = {\n",
        "    'A': ['B', 'C'],\n",
        "    'B': ['A', 'D', 'E'],\n",
        "    'C': ['A', 'F'],\n",
        "    'D': ['B'],\n",
        "    'E': ['B', 'F'],\n",
        "    'F': ['C', 'E']\n",
        "}\n",
        "start_node = 'A'\n",
        "goal_node = 'F'\n",
        "found_path = iterative_deepening_dfs(graph_structure, start_node, goal_node)\n",
        "\n",
        "print(f\"Path from {start_node} to {goal_node}: {found_path}\")\n"
      ],
      "metadata": {
        "colab": {
          "base_uri": "https://localhost:8080/"
        },
        "id": "EQXHHem1H1dU",
        "outputId": "e068551b-b998-4482-8bcf-b0c76f4eb543"
      },
      "execution_count": 13,
      "outputs": [
        {
          "output_type": "stream",
          "name": "stdout",
          "text": [
            "Path from A to F: ['A', 'C', 'F']\n"
          ]
        }
      ]
    },
    {
      "cell_type": "code",
      "source": [
        "import heapq\n",
        "\n",
        "def uniform_cost_search(graph, start_node, goal_node):\n",
        "    open_set = [(0, start_node)]\n",
        "    cost_to_node = {start_node: 0}\n",
        "    path_to_node = {start_node: [start_node]}\n",
        "    while open_set:\n",
        "        current_total_cost, current_node = heapq.heappop(open_set)\n",
        "        if current_node == goal_node:\n",
        "            return path_to_node[current_node]\n",
        "        for neighbor, weight in graph[current_node].items():\n",
        "            cumulative_cost = current_total_cost + weight\n",
        "            if neighbor not in cost_to_node or cumulative_cost < cost_to_node[neighbor]:\n",
        "                cost_to_node[neighbor] = cumulative_cost\n",
        "                path_to_node[neighbor] = path_to_node[current_node] + [neighbor]\n",
        "                heapq.heappush(open_set, (cumulative_cost, neighbor))\n",
        "\n",
        "    return None\n",
        "\n",
        "graph_structure = {\n",
        "    'A': {'B': 1, 'C': 4},\n",
        "    'B': {'D': 2, 'E': 5},\n",
        "    'C': {'D': 1},\n",
        "    'D': {'E': 1},\n",
        "    'E': {}\n",
        "}\n",
        "\n",
        "start_node = 'A'\n",
        "goal_node = 'E'\n",
        "found_path = uniform_cost_search(graph_structure, start_node, goal_node)\n",
        "\n",
        "print(f\"Path from {start_node} to {goal_node}: {found_path}\")\n"
      ],
      "metadata": {
        "colab": {
          "base_uri": "https://localhost:8080/"
        },
        "id": "hFzx0vwyIn6a",
        "outputId": "608176f6-a8d1-4af0-f3e0-7d9a49c7caa8"
      },
      "execution_count": 14,
      "outputs": [
        {
          "output_type": "stream",
          "name": "stdout",
          "text": [
            "Path from A to E: ['A', 'B', 'D', 'E']\n"
          ]
        }
      ]
    }
  ]
}